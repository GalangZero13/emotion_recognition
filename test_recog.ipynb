{
  "nbformat": 4,
  "nbformat_minor": 0,
  "metadata": {
    "colab": {
      "name": "test_recog.ipynb",
      "version": "0.3.2",
      "provenance": []
    },
    "kernelspec": {
      "name": "python3",
      "display_name": "Python 3"
    }
  },
  "cells": [
    {
      "cell_type": "code",
      "metadata": {
        "id": "s8vFmMVvCVlk",
        "colab_type": "code",
        "colab": {}
      },
      "source": [
        "import emotion_config as config\n",
        "from imagetoarraypreprocessor import ImageToArrayPreprocessor\n",
        "from hdf5datasetgenerator import HDF5DatasetGenerator\n",
        "from keras.preprocessing.image import ImageDataGenerator\n",
        "from keras.models import load_model\n",
        "import argparse\n"
      ],
      "execution_count": 0,
      "outputs": []
    },
    {
      "cell_type": "code",
      "metadata": {
        "id": "S9kXoyvyEEHj",
        "colab_type": "code",
        "outputId": "10b34c6f-e0a8-4ea2-c2bc-74eadaefd263",
        "colab": {
          "base_uri": "https://localhost:8080/",
          "height": 135
        }
      },
      "source": [
        "ap = argparse.ArgumentParser()\n",
        "ap.add_argument(\"-m\", \"--model\", type = str, help=\"path to model checkpoint to load\")\n",
        "args = vars(ap.parse_args([\"-m\", \"checkpoints/epoch_90.hdf5\"]))\n",
        "\n",
        "testAug = ImageDataGenerator(rescale = 1/255.0)\n",
        "iap = ImageToArrayPreprocessor()\n",
        "\n",
        "testGen = HDF5DatasetGenerator(config.TEST_HDF5, config.BATCH_SIZE, aug = testAug, preprocessors = [iap], classes = config.NUM_CLASSES)\n",
        "\n",
        "print(\"[INFO] loading {}...\".format(args[\"model\"]))\n",
        "model = load_model(args[\"model\"])"
      ],
      "execution_count": 0,
      "outputs": [
        {
          "output_type": "stream",
          "text": [
            "[INFO] loading checkpoints/epoch_90.hdf5...\n"
          ],
          "name": "stdout"
        },
        {
          "output_type": "stream",
          "text": [
            "W0717 10:05:13.033554 140476834105216 deprecation_wrapper.py:119] From /usr/local/lib/python3.6/dist-packages/keras/optimizers.py:790: The name tf.train.Optimizer is deprecated. Please use tf.compat.v1.train.Optimizer instead.\n",
            "\n",
            "W0717 10:05:13.160924 140476834105216 deprecation.py:323] From /usr/local/lib/python3.6/dist-packages/tensorflow/python/ops/math_grad.py:1250: add_dispatch_support.<locals>.wrapper (from tensorflow.python.ops.array_ops) is deprecated and will be removed in a future version.\n",
            "Instructions for updating:\n",
            "Use tf.where in 2.0, which has the same broadcast rule as np.where\n"
          ],
          "name": "stderr"
        }
      ]
    },
    {
      "cell_type": "code",
      "metadata": {
        "id": "0Cs6OEWwDJYv",
        "colab_type": "code",
        "outputId": "b86504a2-d1f5-4d7e-e728-64c2a645feeb",
        "colab": {
          "base_uri": "https://localhost:8080/",
          "height": 70
        }
      },
      "source": [
        "print(ap)\n",
        "print(iap)"
      ],
      "execution_count": 0,
      "outputs": [
        {
          "output_type": "stream",
          "text": [
            "ArgumentParser(prog='ipykernel_launcher.py', usage=None, description=None, formatter_class=<class 'argparse.HelpFormatter'>, conflict_handler='error', add_help=True)\n",
            "<pyimagesearch.preprocessing.imagetoarraypreprocessor.ImageToArrayPreprocessor object at 0x7fc32ca45940>\n"
          ],
          "name": "stdout"
        }
      ]
    },
    {
      "cell_type": "code",
      "metadata": {
        "id": "IkIhXJqQElZo",
        "colab_type": "code",
        "outputId": "40d09c85-4eb2-488d-9e86-a8565d31fefe",
        "colab": {
          "base_uri": "https://localhost:8080/",
          "height": 33
        }
      },
      "source": [
        "\n",
        "(loss, acc) = model.evaluate_generator(\n",
        "    testGen.generator(),\n",
        "    steps = testGen.numImages // config.BATCH_SIZE,\n",
        "    max_queue_size = config.BATCH_SIZE * 2)\n",
        "print(\"[INFO] accuracy: {:.2f}\".format(acc*100))\n",
        "testGen.close()\n"
      ],
      "execution_count": 0,
      "outputs": [
        {
          "output_type": "stream",
          "text": [
            "[INFO] accuracy: 70.23\n"
          ],
          "name": "stdout"
        }
      ]
    }
  ]
}